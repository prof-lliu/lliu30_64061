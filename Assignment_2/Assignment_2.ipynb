{
  "cells": [
    {
      "cell_type": "markdown",
      "metadata": {
        "id": "r1bKl788Rt9t"
      },
      "source": [
        "# Reference Solution for Assignment 2"
      ]
    },
    {
      "cell_type": "markdown",
      "metadata": {
        "id": "RHMfYolhR4TJ"
      },
      "source": [
        "## Import cats-vs-dogs kaggle competition Dataset   "
      ]
    },
    {
      "cell_type": "code",
      "execution_count": null,
      "metadata": {
        "id": "CecyOuAzdxrN"
      },
      "outputs": [],
      "source": [
        "# ! pip install -q kaggle\n",
        "# click 'create new token' in this website: https://www.kaggle.com/settings\n",
        "# Save the json file to local computer and then upload by following commands to current notebook workspace:"
      ]
    },
    {
      "cell_type": "code",
      "execution_count": null,
      "metadata": {},
      "outputs": [],
      "source": [
        "from google.colab import files\n",
        "files.upload()"
      ]
    },
    {
      "cell_type": "code",
      "execution_count": 2,
      "metadata": {
        "id": "xA8jGU_Tcba2"
      },
      "outputs": [],
      "source": [
        "# !rm -rf ~/.kaggle\n",
        "!mkdir ~/.kaggle\n",
        "!cp kaggle.json ~/.kaggle/\n",
        "!chmod 600 ~/.kaggle/kaggle.json"
      ]
    },
    {
      "cell_type": "code",
      "execution_count": null,
      "metadata": {
        "id": "cyZZ000Xkatx"
      },
      "outputs": [],
      "source": [
        "# Accept rules in their website: https://www.kaggle.com/c/dogs-vs-cats/rules"
      ]
    },
    {
      "cell_type": "code",
      "execution_count": 3,
      "metadata": {
        "colab": {
          "base_uri": "https://localhost:8080/"
        },
        "id": "llumCq7wifCA",
        "outputId": "96f5e3c0-8b09-48ad-c7be-497c5d760c63"
      },
      "outputs": [
        {
          "name": "stdout",
          "output_type": "stream",
          "text": [
            "Downloading dogs-vs-cats.zip to /content\n",
            "100% 810M/812M [00:35<00:00, 25.3MB/s]\n",
            "100% 812M/812M [00:35<00:00, 23.7MB/s]\n"
          ]
        }
      ],
      "source": [
        "!kaggle competitions download -c dogs-vs-cats"
      ]
    },
    {
      "cell_type": "code",
      "execution_count": 4,
      "metadata": {
        "id": "ZphIM8FViq2A"
      },
      "outputs": [],
      "source": [
        "!unzip -qq dogs-vs-cats.zip\n",
        "\n",
        "!unzip -qq train.zip"
      ]
    },
    {
      "cell_type": "code",
      "execution_count": 5,
      "metadata": {
        "id": "4bBly0ppl_v6"
      },
      "outputs": [],
      "source": [
        "import os, shutil, pathlib\n",
        "\n",
        "original_dir = pathlib.Path(\"train\")\n",
        "new_base_dir = pathlib.Path(\"cats_vs_dogs\")\n",
        "\n",
        "def make_subset(subset_name, start_index, end_index):\n",
        "    for category in (\"cat\", \"dog\"):\n",
        "        dir = new_base_dir / subset_name / category\n",
        "        os.makedirs(dir)\n",
        "        fnames = [f\"{category}.{i}.jpg\" for i in range(start_index, end_index)]\n",
        "        for fname in fnames:\n",
        "            shutil.copyfile(src=original_dir / fname,\n",
        "                            dst=dir / fname)"
      ]
    },
    {
      "cell_type": "markdown",
      "metadata": {
        "id": "qyHUigmwIK1f"
      },
      "source": [
        "# For questions 1-3, we will implement steps a, b and c"
      ]
    },
    {
      "cell_type": "markdown",
      "metadata": {
        "id": "lOyJPYKHEFLp"
      },
      "source": [
        "## a. Adjust the training set size according to the requirements of questions 1-3"
      ]
    },
    {
      "cell_type": "markdown",
      "metadata": {
        "id": "EKb4496Zr4qG"
      },
      "source": [
        "1. Consider the Cats & Dogs example. Start initially with a training sample of 1000, a validation sample of 500, and a test sample of 500 (like in the text). Use any technique to reduce overfitting and improve performance in developing a network that you train from scratch. What performance did you achieve?"
      ]
    },
    {
      "cell_type": "code",
      "execution_count": null,
      "metadata": {
        "id": "IfQi-5Km1Sba"
      },
      "outputs": [],
      "source": [
        "# # remove previous folder\n",
        "# import os, shutil\n",
        "# shutil.rmtree(pathlib.Path(\"cats_vs_dogs\"))"
      ]
    },
    {
      "cell_type": "code",
      "execution_count": 6,
      "metadata": {
        "id": "nQpYku8dlHPN"
      },
      "outputs": [],
      "source": [
        "make_subset(\"train\", start_index=0, end_index=1000)\n",
        "make_subset(\"validation\", start_index=1000, end_index=1500)\n",
        "make_subset(\"test\", start_index=1500, end_index=2000)"
      ]
    },
    {
      "cell_type": "markdown",
      "metadata": {
        "id": "vtNABbk0zI9e"
      },
      "source": [
        "2. Increase your training sample size. You may pick any amount. Keep the validation and test samples the same as above. Optimize your network (again training from scratch). What performance did you achieve?"
      ]
    },
    {
      "cell_type": "code",
      "execution_count": null,
      "metadata": {
        "id": "1YX7B8hGzKja"
      },
      "outputs": [],
      "source": [
        "# remove previous folder\n",
        "import os, shutil\n",
        "shutil.rmtree(pathlib.Path(\"cats_vs_dogs\"))"
      ]
    },
    {
      "cell_type": "code",
      "execution_count": null,
      "metadata": {
        "id": "_hBd46FNzUI4"
      },
      "outputs": [],
      "source": [
        "make_subset(\"train\", start_index=0, end_index=3000) # 3000 training set\n",
        "make_subset(\"validation\", start_index=3000, end_index=3500) # 500 validation set\n",
        "make_subset(\"test\", start_index=3500, end_index=4000) # 500 test set"
      ]
    },
    {
      "cell_type": "markdown",
      "metadata": {
        "id": "KJibW1JS6Xih"
      },
      "source": [
        "3. Now change your training sample so that you achieve better performance than those from Steps 1 and 2. This sample size may be larger, or smaller than those in the previous steps. The objective is to find the ideal training sample size to get best prediction results."
      ]
    },
    {
      "cell_type": "code",
      "execution_count": null,
      "metadata": {
        "id": "N0c5UCyW6cne"
      },
      "outputs": [],
      "source": [
        "# remove previous folder\n",
        "import os, shutil\n",
        "shutil.rmtree(pathlib.Path(\"cats_vs_dogs_small\"))"
      ]
    },
    {
      "cell_type": "code",
      "execution_count": null,
      "metadata": {
        "id": "rMeFgW9g6aGU"
      },
      "outputs": [],
      "source": [
        "make_subset(\"train\", start_index=0, end_index=6000) # 6000 training set\n",
        "make_subset(\"validation\", start_index=6000, end_index=6500) # 500 validation set\n",
        "make_subset(\"test\", start_index=6500, end_index=7000) # 500 test set"
      ]
    },
    {
      "cell_type": "markdown",
      "metadata": {
        "id": "9Z3g20PeBgsQ"
      },
      "source": [
        "More extremely, use the complete dataset: increase the training size to 11500"
      ]
    },
    {
      "cell_type": "code",
      "execution_count": null,
      "metadata": {
        "id": "Hcs2k5MUCv97"
      },
      "outputs": [],
      "source": [
        "make_subset(\"train\", start_index=0, end_index=11500) # 115000 training set\n",
        "make_subset(\"validation\", start_index=11500, end_index=12000) # 500 validation set\n",
        "make_subset(\"test\", start_index=12000, end_index=12500) # 500 test set"
      ]
    },
    {
      "cell_type": "markdown",
      "metadata": {
        "id": "Giyd4oiQ518B"
      },
      "source": [
        "## b. Convert image data into processed tensor data"
      ]
    },
    {
      "cell_type": "code",
      "execution_count": 7,
      "metadata": {
        "colab": {
          "base_uri": "https://localhost:8080/"
        },
        "id": "_nL2RtE_vlyG",
        "outputId": "f2a939b8-6d55-467a-f8fb-d545bd5bfd4b"
      },
      "outputs": [
        {
          "name": "stdout",
          "output_type": "stream",
          "text": [
            "Found 2000 files belonging to 2 classes.\n",
            "Found 1000 files belonging to 2 classes.\n",
            "Found 1000 files belonging to 2 classes.\n"
          ]
        }
      ],
      "source": [
        "# read picture data\n",
        "from tensorflow.keras.utils import image_dataset_from_directory\n",
        "\n",
        "train_dataset = image_dataset_from_directory(\n",
        "    new_base_dir / \"train\",\n",
        "    image_size=(180, 180),\n",
        "    # Decode jpeg content to RGB grids of pixels. Each pixel value will be between 0 and 255. RGB 3 colors\n",
        "    batch_size=32) # data batch shape:(32, 180, 180, 3), label batch shape: 32\n",
        "\n",
        "validation_dataset = image_dataset_from_directory(\n",
        "    new_base_dir / \"validation\",\n",
        "    image_size=(180, 180),\n",
        "    batch_size=32)\n",
        "test_dataset = image_dataset_from_directory(\n",
        "    new_base_dir / \"test\",\n",
        "    image_size=(180, 180),\n",
        "    batch_size=32)\n",
        "# After pre-processing, our input tensor has shape (180, 180, 3)"
      ]
    },
    {
      "cell_type": "markdown",
      "metadata": {
        "id": "lfnRn0RfvlyN"
      },
      "source": [
        "## c. Building the model with data augmentation and dropout"
      ]
    },
    {
      "cell_type": "markdown",
      "metadata": {
        "id": "6NhdEnGVvlyN"
      },
      "source": [
        "**Define a data augmentation stage to add to an image model**"
      ]
    },
    {
      "cell_type": "code",
      "execution_count": null,
      "metadata": {
        "id": "Z4yAU3lmvlyN"
      },
      "outputs": [],
      "source": [
        "from tensorflow import keras\n",
        "from tensorflow.keras import layers\n",
        "data_augmentation = keras.Sequential(\n",
        "    [\n",
        "        layers.RandomFlip(\"horizontal\"), # Applies horizontal flipping to a random 50% of the images that go through it\n",
        "        layers.RandomRotation(0.1), # Rotates the input images by a random value in the range [–10%, +10%] (these are fractions of a full circle—in degrees, the range would be [–36 degrees, +36 degrees])\n",
        "        layers.RandomZoom(0.2), # Zooms in or out of the image by a random factor in the range [-20%, +20%]\n",
        "    ]\n",
        ")"
      ]
    },
    {
      "cell_type": "markdown",
      "metadata": {
        "id": "A9PNfcghvlyN"
      },
      "source": [
        "**Defining a new convnet that includes image augmentation and dropout**"
      ]
    },
    {
      "cell_type": "code",
      "execution_count": null,
      "metadata": {
        "id": "sPdF05QhvlyN"
      },
      "outputs": [],
      "source": [
        "inputs = keras.Input(shape=(180, 180, 3))\n",
        "x = data_augmentation(inputs)\n",
        "x = layers.Rescaling(1./255)(x)\n",
        "x = layers.Conv2D(filters=32, kernel_size=3, activation=\"relu\")(x)\n",
        "x = layers.MaxPooling2D(pool_size=2)(x)\n",
        "x = layers.Conv2D(filters=64, kernel_size=3, activation=\"relu\")(x)\n",
        "x = layers.MaxPooling2D(pool_size=2)(x)\n",
        "x = layers.Conv2D(filters=128, kernel_size=3, activation=\"relu\")(x)\n",
        "x = layers.MaxPooling2D(pool_size=2)(x)\n",
        "x = layers.Conv2D(filters=256, kernel_size=3, activation=\"relu\")(x)\n",
        "x = layers.MaxPooling2D(pool_size=2)(x)\n",
        "x = layers.Conv2D(filters=256, kernel_size=3, activation=\"relu\")(x)\n",
        "x = layers.Flatten()(x)\n",
        "x = layers.Dropout(0.5)(x) # the inputs it sees are still heavily intercorrelated because they come from a small number of original images—we can’t produce new information; we can only remix existing information.\n",
        "# As such, this may not be enough to completely get rid of overfitting.\n",
        "# To further fight overfitting, we’ll also add a Dropout layer to our model right before the densely connected classifier.\n",
        "outputs = layers.Dense(1, activation=\"sigmoid\")(x)\n",
        "model = keras.Model(inputs=inputs, outputs=outputs)\n",
        "\n",
        "model.compile(loss=\"binary_crossentropy\",\n",
        "              optimizer=\"rmsprop\",\n",
        "              metrics=[\"accuracy\"])"
      ]
    },
    {
      "cell_type": "code",
      "execution_count": null,
      "metadata": {
        "colab": {
          "base_uri": "https://localhost:8080/"
        },
        "id": "enTUvZYGwjj8",
        "outputId": "40a70b83-2631-475c-d780-c643508125c1"
      },
      "outputs": [
        {
          "name": "stdout",
          "output_type": "stream",
          "text": [
            "Model: \"model_2\"\n",
            "_________________________________________________________________\n",
            " Layer (type)                Output Shape              Param #   \n",
            "=================================================================\n",
            " input_3 (InputLayer)        [(None, 180, 180, 3)]     0         \n",
            "                                                                 \n",
            " sequential_1 (Sequential)   (None, 180, 180, 3)       0         \n",
            "                                                                 \n",
            " rescaling_2 (Rescaling)     (None, 180, 180, 3)       0         \n",
            "                                                                 \n",
            " conv2d_10 (Conv2D)          (None, 178, 178, 32)      896       \n",
            "                                                                 \n",
            " max_pooling2d_8 (MaxPoolin  (None, 89, 89, 32)        0         \n",
            " g2D)                                                            \n",
            "                                                                 \n",
            " conv2d_11 (Conv2D)          (None, 87, 87, 64)        18496     \n",
            "                                                                 \n",
            " max_pooling2d_9 (MaxPoolin  (None, 43, 43, 64)        0         \n",
            " g2D)                                                            \n",
            "                                                                 \n",
            " conv2d_12 (Conv2D)          (None, 41, 41, 128)       73856     \n",
            "                                                                 \n",
            " max_pooling2d_10 (MaxPooli  (None, 20, 20, 128)       0         \n",
            " ng2D)                                                           \n",
            "                                                                 \n",
            " conv2d_13 (Conv2D)          (None, 18, 18, 256)       295168    \n",
            "                                                                 \n",
            " max_pooling2d_11 (MaxPooli  (None, 9, 9, 256)         0         \n",
            " ng2D)                                                           \n",
            "                                                                 \n",
            " conv2d_14 (Conv2D)          (None, 7, 7, 256)         590080    \n",
            "                                                                 \n",
            " flatten_2 (Flatten)         (None, 12544)             0         \n",
            "                                                                 \n",
            " dropout_1 (Dropout)         (None, 12544)             0         \n",
            "                                                                 \n",
            " dense_2 (Dense)             (None, 1)                 12545     \n",
            "                                                                 \n",
            "=================================================================\n",
            "Total params: 991041 (3.78 MB)\n",
            "Trainable params: 991041 (3.78 MB)\n",
            "Non-trainable params: 0 (0.00 Byte)\n",
            "_________________________________________________________________\n"
          ]
        }
      ],
      "source": [
        "model.summary()"
      ]
    },
    {
      "cell_type": "markdown",
      "metadata": {
        "id": "5bgmO9DwvlyN"
      },
      "source": [
        "**Training the regularized convnet**"
      ]
    },
    {
      "cell_type": "code",
      "execution_count": null,
      "metadata": {
        "colab": {
          "base_uri": "https://localhost:8080/"
        },
        "id": "qv-GbX4gvlyN",
        "outputId": "b73420be-2c07-40d3-8bf3-8dade7a8f92a"
      },
      "outputs": [
        {
          "name": "stdout",
          "output_type": "stream",
          "text": [
            "Epoch 1/100\n",
            "125/125 [==============================] - 4s 21ms/step - loss: 0.6975 - accuracy: 0.5142 - val_loss: 0.6944 - val_accuracy: 0.5000\n",
            "Epoch 2/100\n",
            "125/125 [==============================] - 2s 19ms/step - loss: 0.6911 - accuracy: 0.5435 - val_loss: 0.7130 - val_accuracy: 0.5040\n",
            "Epoch 3/100\n",
            "125/125 [==============================] - 2s 19ms/step - loss: 0.6709 - accuracy: 0.6003 - val_loss: 0.6398 - val_accuracy: 0.6310\n",
            "Epoch 4/100\n",
            "125/125 [==============================] - 3s 20ms/step - loss: 0.6388 - accuracy: 0.6367 - val_loss: 0.5997 - val_accuracy: 0.6740\n",
            "Epoch 5/100\n",
            "125/125 [==============================] - 3s 20ms/step - loss: 0.6030 - accuracy: 0.6752 - val_loss: 0.5723 - val_accuracy: 0.7160\n",
            "Epoch 6/100\n",
            "125/125 [==============================] - 3s 20ms/step - loss: 0.5850 - accuracy: 0.6948 - val_loss: 0.5888 - val_accuracy: 0.6860\n",
            "Epoch 7/100\n",
            "125/125 [==============================] - 3s 19ms/step - loss: 0.5571 - accuracy: 0.7095 - val_loss: 0.5565 - val_accuracy: 0.7260\n",
            "Epoch 8/100\n",
            "125/125 [==============================] - 2s 19ms/step - loss: 0.5486 - accuracy: 0.7312 - val_loss: 0.5848 - val_accuracy: 0.7050\n",
            "Epoch 9/100\n",
            "125/125 [==============================] - 2s 19ms/step - loss: 0.5282 - accuracy: 0.7372 - val_loss: 0.5213 - val_accuracy: 0.7570\n",
            "Epoch 10/100\n",
            "125/125 [==============================] - 2s 19ms/step - loss: 0.5161 - accuracy: 0.7460 - val_loss: 0.6029 - val_accuracy: 0.6990\n",
            "Epoch 11/100\n",
            "125/125 [==============================] - 3s 20ms/step - loss: 0.4957 - accuracy: 0.7642 - val_loss: 0.5090 - val_accuracy: 0.7670\n",
            "Epoch 12/100\n",
            "125/125 [==============================] - 3s 20ms/step - loss: 0.4874 - accuracy: 0.7688 - val_loss: 0.4786 - val_accuracy: 0.7860\n",
            "Epoch 13/100\n",
            "125/125 [==============================] - 2s 19ms/step - loss: 0.4723 - accuracy: 0.7765 - val_loss: 0.5228 - val_accuracy: 0.7580\n",
            "Epoch 14/100\n",
            "125/125 [==============================] - 2s 19ms/step - loss: 0.4732 - accuracy: 0.7760 - val_loss: 0.4848 - val_accuracy: 0.7800\n",
            "Epoch 15/100\n",
            "125/125 [==============================] - 3s 20ms/step - loss: 0.4520 - accuracy: 0.7915 - val_loss: 0.4450 - val_accuracy: 0.7860\n",
            "Epoch 16/100\n",
            "125/125 [==============================] - 2s 19ms/step - loss: 0.4400 - accuracy: 0.7993 - val_loss: 0.4858 - val_accuracy: 0.7720\n",
            "Epoch 17/100\n",
            "125/125 [==============================] - 3s 20ms/step - loss: 0.4263 - accuracy: 0.8025 - val_loss: 0.4261 - val_accuracy: 0.8040\n",
            "Epoch 18/100\n",
            "125/125 [==============================] - 3s 19ms/step - loss: 0.4144 - accuracy: 0.8048 - val_loss: 0.4412 - val_accuracy: 0.8220\n",
            "Epoch 19/100\n",
            "125/125 [==============================] - 3s 19ms/step - loss: 0.4097 - accuracy: 0.8155 - val_loss: 0.4669 - val_accuracy: 0.7880\n",
            "Epoch 20/100\n",
            "125/125 [==============================] - 2s 19ms/step - loss: 0.3959 - accuracy: 0.8202 - val_loss: 0.4781 - val_accuracy: 0.7930\n",
            "Epoch 21/100\n",
            "125/125 [==============================] - 2s 19ms/step - loss: 0.4014 - accuracy: 0.8215 - val_loss: 0.5026 - val_accuracy: 0.7700\n",
            "Epoch 22/100\n",
            "125/125 [==============================] - 2s 19ms/step - loss: 0.3748 - accuracy: 0.8322 - val_loss: 0.6129 - val_accuracy: 0.7470\n",
            "Epoch 23/100\n",
            "125/125 [==============================] - 3s 20ms/step - loss: 0.3820 - accuracy: 0.8253 - val_loss: 0.3909 - val_accuracy: 0.8290\n",
            "Epoch 24/100\n",
            "125/125 [==============================] - 3s 20ms/step - loss: 0.3531 - accuracy: 0.8415 - val_loss: 0.3844 - val_accuracy: 0.8310\n",
            "Epoch 25/100\n",
            "125/125 [==============================] - 3s 20ms/step - loss: 0.3538 - accuracy: 0.8363 - val_loss: 0.4148 - val_accuracy: 0.8130\n",
            "Epoch 26/100\n",
            "125/125 [==============================] - 2s 19ms/step - loss: 0.3401 - accuracy: 0.8497 - val_loss: 0.4135 - val_accuracy: 0.8330\n",
            "Epoch 27/100\n",
            "125/125 [==============================] - 2s 19ms/step - loss: 0.3382 - accuracy: 0.8650 - val_loss: 0.3936 - val_accuracy: 0.8400\n",
            "Epoch 28/100\n",
            "125/125 [==============================] - 3s 19ms/step - loss: 0.3207 - accuracy: 0.8660 - val_loss: 0.3788 - val_accuracy: 0.8550\n",
            "Epoch 29/100\n",
            "125/125 [==============================] - 2s 19ms/step - loss: 0.3100 - accuracy: 0.8712 - val_loss: 0.3623 - val_accuracy: 0.8390\n",
            "Epoch 30/100\n",
            "125/125 [==============================] - 2s 19ms/step - loss: 0.3107 - accuracy: 0.8637 - val_loss: 0.7578 - val_accuracy: 0.7730\n",
            "Epoch 31/100\n",
            "125/125 [==============================] - 3s 20ms/step - loss: 0.3036 - accuracy: 0.8660 - val_loss: 0.3869 - val_accuracy: 0.8630\n",
            "Epoch 32/100\n",
            "125/125 [==============================] - 3s 20ms/step - loss: 0.2939 - accuracy: 0.8752 - val_loss: 0.4914 - val_accuracy: 0.8410\n",
            "Epoch 33/100\n",
            "125/125 [==============================] - 3s 20ms/step - loss: 0.2835 - accuracy: 0.8885 - val_loss: 0.4642 - val_accuracy: 0.8590\n",
            "Epoch 34/100\n",
            "125/125 [==============================] - 2s 19ms/step - loss: 0.2849 - accuracy: 0.8785 - val_loss: 0.6748 - val_accuracy: 0.7980\n",
            "Epoch 35/100\n",
            "125/125 [==============================] - 2s 19ms/step - loss: 0.2911 - accuracy: 0.8795 - val_loss: 0.3744 - val_accuracy: 0.8530\n",
            "Epoch 36/100\n",
            "125/125 [==============================] - 3s 19ms/step - loss: 0.2835 - accuracy: 0.8838 - val_loss: 0.3636 - val_accuracy: 0.8620\n",
            "Epoch 37/100\n",
            "125/125 [==============================] - 3s 20ms/step - loss: 0.2756 - accuracy: 0.8870 - val_loss: 0.4260 - val_accuracy: 0.8510\n",
            "Epoch 38/100\n",
            "125/125 [==============================] - 3s 20ms/step - loss: 0.2583 - accuracy: 0.8940 - val_loss: 0.3655 - val_accuracy: 0.8560\n",
            "Epoch 39/100\n",
            "125/125 [==============================] - 3s 19ms/step - loss: 0.2591 - accuracy: 0.8972 - val_loss: 0.4309 - val_accuracy: 0.8520\n",
            "Epoch 40/100\n",
            "125/125 [==============================] - 2s 19ms/step - loss: 0.2464 - accuracy: 0.8985 - val_loss: 0.5141 - val_accuracy: 0.8510\n",
            "Epoch 41/100\n",
            "125/125 [==============================] - 2s 19ms/step - loss: 0.2572 - accuracy: 0.8972 - val_loss: 0.5413 - val_accuracy: 0.8440\n",
            "Epoch 42/100\n",
            "125/125 [==============================] - 2s 19ms/step - loss: 0.2459 - accuracy: 0.8985 - val_loss: 0.3686 - val_accuracy: 0.8450\n",
            "Epoch 43/100\n",
            "125/125 [==============================] - 3s 21ms/step - loss: 0.2387 - accuracy: 0.9097 - val_loss: 0.7299 - val_accuracy: 0.8140\n",
            "Epoch 44/100\n",
            "125/125 [==============================] - 3s 21ms/step - loss: 0.2388 - accuracy: 0.9003 - val_loss: 0.6530 - val_accuracy: 0.8400\n",
            "Epoch 45/100\n",
            "125/125 [==============================] - 2s 19ms/step - loss: 0.2513 - accuracy: 0.8975 - val_loss: 0.3876 - val_accuracy: 0.8720\n",
            "Epoch 46/100\n",
            "125/125 [==============================] - 2s 19ms/step - loss: 0.2510 - accuracy: 0.9005 - val_loss: 0.4015 - val_accuracy: 0.8840\n",
            "Epoch 47/100\n",
            "125/125 [==============================] - 2s 19ms/step - loss: 0.2271 - accuracy: 0.9153 - val_loss: 0.3844 - val_accuracy: 0.8760\n",
            "Epoch 48/100\n",
            "125/125 [==============================] - 3s 20ms/step - loss: 0.2238 - accuracy: 0.9112 - val_loss: 0.4102 - val_accuracy: 0.8970\n",
            "Epoch 49/100\n",
            "125/125 [==============================] - 3s 20ms/step - loss: 0.2356 - accuracy: 0.9143 - val_loss: 0.4212 - val_accuracy: 0.8580\n",
            "Epoch 50/100\n",
            "125/125 [==============================] - 2s 19ms/step - loss: 0.2313 - accuracy: 0.9145 - val_loss: 0.4555 - val_accuracy: 0.8560\n",
            "Epoch 51/100\n",
            "125/125 [==============================] - 2s 19ms/step - loss: 0.2293 - accuracy: 0.9100 - val_loss: 0.5060 - val_accuracy: 0.8060\n",
            "Epoch 52/100\n",
            "125/125 [==============================] - 3s 19ms/step - loss: 0.2248 - accuracy: 0.9075 - val_loss: 0.3420 - val_accuracy: 0.8970\n",
            "Epoch 53/100\n",
            "125/125 [==============================] - 2s 19ms/step - loss: 0.2329 - accuracy: 0.9087 - val_loss: 0.5004 - val_accuracy: 0.8630\n",
            "Epoch 54/100\n",
            "125/125 [==============================] - 2s 19ms/step - loss: 0.2189 - accuracy: 0.9162 - val_loss: 1.1219 - val_accuracy: 0.7830\n",
            "Epoch 55/100\n",
            "125/125 [==============================] - 3s 19ms/step - loss: 0.2294 - accuracy: 0.9112 - val_loss: 0.5425 - val_accuracy: 0.8460\n",
            "Epoch 56/100\n",
            "125/125 [==============================] - 3s 20ms/step - loss: 0.2344 - accuracy: 0.9100 - val_loss: 0.7349 - val_accuracy: 0.8290\n",
            "Epoch 57/100\n",
            "125/125 [==============================] - 3s 19ms/step - loss: 0.2362 - accuracy: 0.9085 - val_loss: 0.4214 - val_accuracy: 0.8690\n",
            "Epoch 58/100\n",
            "125/125 [==============================] - 2s 19ms/step - loss: 0.2230 - accuracy: 0.9115 - val_loss: 0.4581 - val_accuracy: 0.8860\n",
            "Epoch 59/100\n",
            "125/125 [==============================] - 2s 19ms/step - loss: 0.2336 - accuracy: 0.9162 - val_loss: 0.4092 - val_accuracy: 0.8800\n",
            "Epoch 60/100\n",
            "125/125 [==============================] - 2s 19ms/step - loss: 0.2369 - accuracy: 0.9143 - val_loss: 0.4865 - val_accuracy: 0.8570\n",
            "Epoch 61/100\n",
            "125/125 [==============================] - 3s 20ms/step - loss: 0.2089 - accuracy: 0.9180 - val_loss: 0.5944 - val_accuracy: 0.8700\n",
            "Epoch 62/100\n",
            "125/125 [==============================] - 3s 20ms/step - loss: 0.2300 - accuracy: 0.9128 - val_loss: 0.5834 - val_accuracy: 0.8560\n",
            "Epoch 63/100\n",
            "125/125 [==============================] - 3s 20ms/step - loss: 0.2166 - accuracy: 0.9150 - val_loss: 0.5247 - val_accuracy: 0.8770\n",
            "Epoch 64/100\n",
            "125/125 [==============================] - 2s 19ms/step - loss: 0.2041 - accuracy: 0.9205 - val_loss: 0.4362 - val_accuracy: 0.8650\n",
            "Epoch 65/100\n",
            "125/125 [==============================] - 2s 19ms/step - loss: 0.2245 - accuracy: 0.9140 - val_loss: 0.4568 - val_accuracy: 0.8720\n",
            "Epoch 66/100\n",
            "125/125 [==============================] - 2s 18ms/step - loss: 0.2338 - accuracy: 0.9097 - val_loss: 0.4330 - val_accuracy: 0.8950\n",
            "Epoch 67/100\n",
            "125/125 [==============================] - 2s 19ms/step - loss: 0.2133 - accuracy: 0.9172 - val_loss: 0.4136 - val_accuracy: 0.8810\n",
            "Epoch 68/100\n",
            "125/125 [==============================] - 2s 19ms/step - loss: 0.2231 - accuracy: 0.9150 - val_loss: 0.7997 - val_accuracy: 0.8500\n",
            "Epoch 69/100\n",
            "125/125 [==============================] - 3s 19ms/step - loss: 0.2344 - accuracy: 0.9145 - val_loss: 0.9052 - val_accuracy: 0.7710\n",
            "Epoch 70/100\n",
            "125/125 [==============================] - 2s 19ms/step - loss: 0.2296 - accuracy: 0.9158 - val_loss: 0.5430 - val_accuracy: 0.8420\n",
            "Epoch 71/100\n",
            "125/125 [==============================] - 2s 19ms/step - loss: 0.2104 - accuracy: 0.9268 - val_loss: 2.4107 - val_accuracy: 0.7800\n",
            "Epoch 72/100\n",
            "125/125 [==============================] - 2s 19ms/step - loss: 0.2395 - accuracy: 0.9128 - val_loss: 0.5267 - val_accuracy: 0.8760\n",
            "Epoch 73/100\n",
            "125/125 [==============================] - 2s 19ms/step - loss: 0.2089 - accuracy: 0.9222 - val_loss: 0.4602 - val_accuracy: 0.8830\n",
            "Epoch 74/100\n",
            "125/125 [==============================] - 2s 19ms/step - loss: 0.2317 - accuracy: 0.9140 - val_loss: 0.5505 - val_accuracy: 0.8430\n",
            "Epoch 75/100\n",
            "125/125 [==============================] - 3s 20ms/step - loss: 0.2215 - accuracy: 0.9172 - val_loss: 0.4551 - val_accuracy: 0.8850\n",
            "Epoch 76/100\n",
            "125/125 [==============================] - 3s 20ms/step - loss: 0.2476 - accuracy: 0.9147 - val_loss: 0.4944 - val_accuracy: 0.8870\n",
            "Epoch 77/100\n",
            "125/125 [==============================] - 2s 19ms/step - loss: 0.2365 - accuracy: 0.9147 - val_loss: 0.5341 - val_accuracy: 0.8680\n",
            "Epoch 78/100\n",
            "125/125 [==============================] - 2s 19ms/step - loss: 0.2383 - accuracy: 0.9103 - val_loss: 0.4256 - val_accuracy: 0.8830\n",
            "Epoch 79/100\n",
            "125/125 [==============================] - 2s 19ms/step - loss: 0.2324 - accuracy: 0.9183 - val_loss: 0.4262 - val_accuracy: 0.8710\n",
            "Epoch 80/100\n",
            "125/125 [==============================] - 2s 19ms/step - loss: 0.2131 - accuracy: 0.9227 - val_loss: 0.5016 - val_accuracy: 0.8990\n",
            "Epoch 81/100\n",
            "125/125 [==============================] - 3s 20ms/step - loss: 0.2039 - accuracy: 0.9275 - val_loss: 0.5249 - val_accuracy: 0.8840\n",
            "Epoch 82/100\n",
            "125/125 [==============================] - 3s 20ms/step - loss: 0.2155 - accuracy: 0.9202 - val_loss: 0.4463 - val_accuracy: 0.8780\n",
            "Epoch 83/100\n",
            "125/125 [==============================] - 2s 19ms/step - loss: 0.2216 - accuracy: 0.9200 - val_loss: 0.6511 - val_accuracy: 0.8660\n",
            "Epoch 84/100\n",
            "125/125 [==============================] - 2s 19ms/step - loss: 0.2287 - accuracy: 0.9187 - val_loss: 0.4149 - val_accuracy: 0.9000\n",
            "Epoch 85/100\n",
            "125/125 [==============================] - 2s 19ms/step - loss: 0.2267 - accuracy: 0.9187 - val_loss: 0.5161 - val_accuracy: 0.8920\n",
            "Epoch 86/100\n",
            "125/125 [==============================] - 2s 19ms/step - loss: 0.2183 - accuracy: 0.9187 - val_loss: 0.3874 - val_accuracy: 0.8910\n",
            "Epoch 87/100\n",
            "125/125 [==============================] - 2s 19ms/step - loss: 0.2163 - accuracy: 0.9243 - val_loss: 0.4036 - val_accuracy: 0.8960\n",
            "Epoch 88/100\n",
            "125/125 [==============================] - 3s 19ms/step - loss: 0.2426 - accuracy: 0.9130 - val_loss: 0.4830 - val_accuracy: 0.8810\n",
            "Epoch 89/100\n",
            "125/125 [==============================] - 3s 20ms/step - loss: 0.2360 - accuracy: 0.9227 - val_loss: 0.4993 - val_accuracy: 0.8960\n",
            "Epoch 90/100\n",
            "125/125 [==============================] - 2s 19ms/step - loss: 0.2457 - accuracy: 0.9170 - val_loss: 0.8960 - val_accuracy: 0.8630\n",
            "Epoch 91/100\n",
            "125/125 [==============================] - 2s 19ms/step - loss: 0.2263 - accuracy: 0.9160 - val_loss: 0.4990 - val_accuracy: 0.8740\n",
            "Epoch 92/100\n",
            "125/125 [==============================] - 2s 19ms/step - loss: 0.2232 - accuracy: 0.9215 - val_loss: 0.4295 - val_accuracy: 0.8910\n",
            "Epoch 93/100\n",
            "125/125 [==============================] - 2s 19ms/step - loss: 0.2200 - accuracy: 0.9197 - val_loss: 0.4774 - val_accuracy: 0.8670\n",
            "Epoch 94/100\n",
            "125/125 [==============================] - 2s 19ms/step - loss: 0.2325 - accuracy: 0.9180 - val_loss: 0.6897 - val_accuracy: 0.8570\n",
            "Epoch 95/100\n",
            "125/125 [==============================] - 3s 20ms/step - loss: 0.2606 - accuracy: 0.9103 - val_loss: 0.4493 - val_accuracy: 0.8920\n",
            "Epoch 96/100\n",
            "125/125 [==============================] - 2s 19ms/step - loss: 0.2585 - accuracy: 0.9125 - val_loss: 0.5860 - val_accuracy: 0.8810\n",
            "Epoch 97/100\n",
            "125/125 [==============================] - 2s 19ms/step - loss: 0.2432 - accuracy: 0.9145 - val_loss: 0.4952 - val_accuracy: 0.8870\n",
            "Epoch 98/100\n",
            "125/125 [==============================] - 2s 19ms/step - loss: 0.2384 - accuracy: 0.9200 - val_loss: 0.4135 - val_accuracy: 0.8800\n",
            "Epoch 99/100\n",
            "125/125 [==============================] - 2s 19ms/step - loss: 0.2315 - accuracy: 0.9147 - val_loss: 0.4625 - val_accuracy: 0.9040\n",
            "Epoch 100/100\n",
            "125/125 [==============================] - 2s 19ms/step - loss: 0.2298 - accuracy: 0.9153 - val_loss: 0.3707 - val_accuracy: 0.8950\n"
          ]
        }
      ],
      "source": [
        "callbacks = [\n",
        "    keras.callbacks.ModelCheckpoint(\n",
        "        filepath=\"convnet_from_scratch_with_augmentation.keras\",\n",
        "        save_best_only=True,\n",
        "        monitor=\"val_loss\")\n",
        "]\n",
        "history = model.fit(\n",
        "    train_dataset,\n",
        "    epochs=100, # Because we expect overfitting to occur much later during training, we will train for three times as many epochs—one hundred.\n",
        "    validation_data=validation_dataset,\n",
        "    callbacks=callbacks)"
      ]
    },
    {
      "cell_type": "markdown",
      "metadata": {
        "id": "fFvoQv2yvlyN"
      },
      "source": [
        "**Evaluating the model on the test set**"
      ]
    },
    {
      "cell_type": "code",
      "execution_count": null,
      "metadata": {
        "colab": {
          "base_uri": "https://localhost:8080/",
          "height": 887
        },
        "id": "ewADAKKXyfkX",
        "outputId": "279d70bd-0851-4908-ce95-d7b76fbef32a"
      },
      "outputs": [
        {
          "data": {
            "application/javascript": "\n    async function download(id, filename, size) {\n      if (!google.colab.kernel.accessAllowed) {\n        return;\n      }\n      const div = document.createElement('div');\n      const label = document.createElement('label');\n      label.textContent = `Downloading \"${filename}\": `;\n      div.appendChild(label);\n      const progress = document.createElement('progress');\n      progress.max = size;\n      div.appendChild(progress);\n      document.body.appendChild(div);\n\n      const buffers = [];\n      let downloaded = 0;\n\n      const channel = await google.colab.kernel.comms.open(id);\n      // Send a message to notify the kernel that we're ready.\n      channel.send({})\n\n      for await (const message of channel.messages) {\n        // Send a message to notify the kernel that we're ready.\n        channel.send({})\n        if (message.buffers) {\n          for (const buffer of message.buffers) {\n            buffers.push(buffer);\n            downloaded += buffer.byteLength;\n            progress.value = downloaded;\n          }\n        }\n      }\n      const blob = new Blob(buffers, {type: 'application/binary'});\n      const a = document.createElement('a');\n      a.href = window.URL.createObjectURL(blob);\n      a.download = filename;\n      div.appendChild(a);\n      a.click();\n      div.remove();\n    }\n  ",
            "text/plain": [
              "<IPython.core.display.Javascript object>"
            ]
          },
          "metadata": {},
          "output_type": "display_data"
        },
        {
          "data": {
            "application/javascript": "download(\"download_9db78801-7bcb-4902-827b-c2068750e68d\", \"initial_plot_accuracy_p3_4_1.png\", 35053)",
            "text/plain": [
              "<IPython.core.display.Javascript object>"
            ]
          },
          "metadata": {},
          "output_type": "display_data"
        },
        {
          "data": {
            "application/javascript": "\n    async function download(id, filename, size) {\n      if (!google.colab.kernel.accessAllowed) {\n        return;\n      }\n      const div = document.createElement('div');\n      const label = document.createElement('label');\n      label.textContent = `Downloading \"${filename}\": `;\n      div.appendChild(label);\n      const progress = document.createElement('progress');\n      progress.max = size;\n      div.appendChild(progress);\n      document.body.appendChild(div);\n\n      const buffers = [];\n      let downloaded = 0;\n\n      const channel = await google.colab.kernel.comms.open(id);\n      // Send a message to notify the kernel that we're ready.\n      channel.send({})\n\n      for await (const message of channel.messages) {\n        // Send a message to notify the kernel that we're ready.\n        channel.send({})\n        if (message.buffers) {\n          for (const buffer of message.buffers) {\n            buffers.push(buffer);\n            downloaded += buffer.byteLength;\n            progress.value = downloaded;\n          }\n        }\n      }\n      const blob = new Blob(buffers, {type: 'application/binary'});\n      const a = document.createElement('a');\n      a.href = window.URL.createObjectURL(blob);\n      a.download = filename;\n      div.appendChild(a);\n      a.click();\n      div.remove();\n    }\n  ",
            "text/plain": [
              "<IPython.core.display.Javascript object>"
            ]
          },
          "metadata": {},
          "output_type": "display_data"
        },
        {
          "data": {
            "application/javascript": "download(\"download_59846b7e-3e02-49c3-b333-5fe6e0959032\", \"initial_plot_loss_p3_4_1.png\", 29290)",
            "text/plain": [
              "<IPython.core.display.Javascript object>"
            ]
          },
          "metadata": {},
          "output_type": "display_data"
        },
        {
          "data": {
            "image/png": "[encoded data removed]",
            "text/plain": [
              "<Figure size 640x480 with 1 Axes>"
            ]
          },
          "metadata": {},
          "output_type": "display_data"
        },
        {
          "data": {
            "image/png": "[encoded data removed]",
            "text/plain": [
              "<Figure size 640x480 with 1 Axes>"
            ]
          },
          "metadata": {},
          "output_type": "display_data"
        }
      ],
      "source": [
        "import matplotlib.pyplot as plt\n",
        "accuracy = history.history[\"accuracy\"]\n",
        "val_accuracy = history.history[\"val_accuracy\"]\n",
        "loss = history.history[\"loss\"]\n",
        "val_loss = history.history[\"val_loss\"]\n",
        "\n",
        "epochs = range(1, len(accuracy) + 1)\n",
        "plt.plot(epochs, accuracy, \"bo\", label=\"Training accuracy\")\n",
        "plt.plot(epochs, val_accuracy, \"b\", label=\"Validation accuracy\")\n",
        "plt.title(\"Training and validation accuracy\")\n",
        "plt.legend()\n",
        "# plt.savefig('initial_plot_accuracy_p1_1.png')\n",
        "# plt.savefig('initial_plot_accuracy_p2_1.png')\n",
        "# plt.savefig('initial_plot_accuracy_p3_1.png')\n",
        "\n",
        "from google.colab import files\n",
        "# files.download(\"initial_plot_accuracy_p1_1.png\")\n",
        "# files.download(\"initial_plot_accuracy_p2_1.png\")\n",
        "# files.download(\"initial_plot_accuracy_p3_1.png\")\n",
        "\n",
        "plt.figure()\n",
        "plt.plot(epochs, loss, \"bo\", label=\"Training loss\")\n",
        "plt.plot(epochs, val_loss, \"b\", label=\"Validation loss\")\n",
        "plt.title(\"Training and validation loss\")\n",
        "plt.legend()\n",
        "# plt.show()\n",
        "# plt.savefig('initial_plot_loss_p1_1.png')\n",
        "# plt.savefig('initial_plot_loss_p2_1.png')\n",
        "# plt.savefig('initial_plot_loss_p3_1.png')\n",
        "\n",
        "from google.colab import files\n",
        "# files.download(\"initial_plot_loss_p1_1.png\")\n",
        "# files.download(\"initial_plot_loss_p2_1.png\")\n",
        "# files.download(\"initial_plot_loss_p3_1.png\")"
      ]
    },
    {
      "cell_type": "code",
      "execution_count": null,
      "metadata": {
        "colab": {
          "base_uri": "https://localhost:8080/"
        },
        "id": "69pPjaBsvlyO",
        "outputId": "14860b20-00a3-49e3-cbba-d5e55b866581"
      },
      "outputs": [
        {
          "name": "stdout",
          "output_type": "stream",
          "text": [
            "32/32 [==============================] - 1s 9ms/step - loss: 0.3163 - accuracy: 0.9080\n",
            "Test accuracy: 0.908, Test loss: 0.316\n"
          ]
        }
      ],
      "source": [
        "from tensorflow import keras\n",
        "from tensorflow.keras import layers\n",
        "test_model = keras.models.load_model(\n",
        "    \"convnet_from_scratch_with_augmentation.keras\")\n",
        "test_loss, test_acc = test_model.evaluate(test_dataset)\n",
        "print(f\"Test accuracy: {test_acc:.3f}, Test loss: {test_loss:.3f}\")"
      ]
    },
    {
      "cell_type": "code",
      "execution_count": null,
      "metadata": {
        "colab": {
          "base_uri": "https://localhost:8080/",
          "height": 17
        },
        "id": "p_5oOeF3X1HG",
        "outputId": "7bf2cc97-2fab-4b79-b81d-d437b3b4269f"
      },
      "outputs": [
        {
          "data": {
            "application/javascript": "\n    async function download(id, filename, size) {\n      if (!google.colab.kernel.accessAllowed) {\n        return;\n      }\n      const div = document.createElement('div');\n      const label = document.createElement('label');\n      label.textContent = `Downloading \"${filename}\": `;\n      div.appendChild(label);\n      const progress = document.createElement('progress');\n      progress.max = size;\n      div.appendChild(progress);\n      document.body.appendChild(div);\n\n      const buffers = [];\n      let downloaded = 0;\n\n      const channel = await google.colab.kernel.comms.open(id);\n      // Send a message to notify the kernel that we're ready.\n      channel.send({})\n\n      for await (const message of channel.messages) {\n        // Send a message to notify the kernel that we're ready.\n        channel.send({})\n        if (message.buffers) {\n          for (const buffer of message.buffers) {\n            buffers.push(buffer);\n            downloaded += buffer.byteLength;\n            progress.value = downloaded;\n          }\n        }\n      }\n      const blob = new Blob(buffers, {type: 'application/binary'});\n      const a = document.createElement('a');\n      a.href = window.URL.createObjectURL(blob);\n      a.download = filename;\n      div.appendChild(a);\n      a.click();\n      div.remove();\n    }\n  ",
            "text/plain": [
              "<IPython.core.display.Javascript object>"
            ]
          },
          "metadata": {},
          "output_type": "display_data"
        },
        {
          "data": {
            "application/javascript": "download(\"download_bfd644f1-a565-4605-bfe4-1d6b7d00ecee\", \"df_augment_p3_4_1.csv\", 13374)",
            "text/plain": [
              "<IPython.core.display.Javascript object>"
            ]
          },
          "metadata": {},
          "output_type": "display_data"
        }
      ],
      "source": [
        "import pandas as pd\n",
        "accuracy = history.history[\"accuracy\"]\n",
        "val_accuracy = history.history[\"val_accuracy\"]\n",
        "loss = history.history[\"loss\"]\n",
        "val_loss = history.history[\"val_loss\"]\n",
        "epochs = range(1, len(accuracy) + 1)\n",
        "df0 = pd.DataFrame({'epochs': epochs, 'model': [\"inital_model\"]*len(loss), 'loss_values': loss, 'val_loss_values': val_loss, 'acc': accuracy, 'val_acc': val_accuracy, 'test_loss': test_loss, 'test_acc': test_acc})\n",
        "# df0.to_csv('df_augment_p1_1.csv')\n",
        "# df0.to_csv('df_augment_p2_1.csv')\n",
        "# df0.to_csv('df_augment_p3_1.csv')\n",
        "\n",
        "from google.colab import files\n",
        "# files.download(\"df_augment_p1_1.csv\")\n",
        "# files.download(\"df_augment_p2_1.csv\")\n",
        "# files.download(\"df_augment_p3_1.csv\")"
      ]
    },
    {
      "cell_type": "markdown",
      "metadata": {
        "id": "x7EUvKELJbLk"
      },
      "source": [
        "## Conclusion\n",
        "\n",
        "Increasing the training set size generally does not hurt an algorithm's performance, and it may help significantly.\n",
        "For example, increasing the training set size from 3,000 to 6,000 significantly improved the test accuracy from 0.885 to 0.923. However, increasing the training set size from 6,000 to 115,000 only slightly improved the test accuracy by around 1%."
      ]
    },
    {
      "cell_type": "markdown",
      "metadata": {
        "id": "V2Zn_HdBIbdB"
      },
      "source": [
        "# For question 4, we'll implement steps a, b, d and e"
      ]
    },
    {
      "cell_type": "markdown",
      "metadata": {
        "id": "JGCJD0Vz744J"
      },
      "source": [
        "4. Repeat Steps 1-3, but now using a pretrained network. The sample sizes you use in Steps 2 and 3 for the pretrained network may be the same or different from those using the network where you trained from scratch. Again, use any and all optimization techniques to get best performance."
      ]
    },
    {
      "cell_type": "markdown",
      "metadata": {
        "id": "5GbCjtyLvlyO"
      },
      "source": [
        "Use a pretrained model for question 4"
      ]
    },
    {
      "cell_type": "markdown",
      "metadata": {
        "id": "IqZHv6pxvlyO"
      },
      "source": [
        "### d. Feature extraction with a pretrained model with data augmentation and dropout layers"
      ]
    },
    {
      "cell_type": "markdown",
      "metadata": {
        "id": "_6aZzYyLvlyO"
      },
      "source": [
        "**Instantiating the VGG16 convolutional base**"
      ]
    },
    {
      "cell_type": "code",
      "execution_count": 8,
      "metadata": {
        "colab": {
          "base_uri": "https://localhost:8080/"
        },
        "id": "m8M8ze12vlyO",
        "outputId": "b40a7a4e-3f4b-46bd-c2ee-a2f2e0c9b2d7"
      },
      "outputs": [
        {
          "name": "stdout",
          "output_type": "stream",
          "text": [
            "Downloading data from https://storage.googleapis.com/tensorflow/keras-applications/vgg16/vgg16_weights_tf_dim_ordering_tf_kernels_notop.h5\n",
            "58889256/58889256 [==============================] - 3s 0us/step\n"
          ]
        }
      ],
      "source": [
        "from tensorflow import keras\n",
        "from tensorflow.keras import layers\n",
        "conv_base = keras.applications.vgg16.VGG16(\n",
        "    weights=\"imagenet\",\n",
        "    include_top=False,\n",
        "    input_shape=(180, 180, 3))"
      ]
    },
    {
      "cell_type": "code",
      "execution_count": 9,
      "metadata": {
        "colab": {
          "base_uri": "https://localhost:8080/"
        },
        "id": "LlZQcsahvlyO",
        "outputId": "23725e0d-846e-4287-895a-e2244949c801"
      },
      "outputs": [
        {
          "name": "stdout",
          "output_type": "stream",
          "text": [
            "Model: \"vgg16\"\n",
            "_________________________________________________________________\n",
            " Layer (type)                Output Shape              Param #   \n",
            "=================================================================\n",
            " input_1 (InputLayer)        [(None, 180, 180, 3)]     0         \n",
            "                                                                 \n",
            " block1_conv1 (Conv2D)       (None, 180, 180, 64)      1792      \n",
            "                                                                 \n",
            " block1_conv2 (Conv2D)       (None, 180, 180, 64)      36928     \n",
            "                                                                 \n",
            " block1_pool (MaxPooling2D)  (None, 90, 90, 64)        0         \n",
            "                                                                 \n",
            " block2_conv1 (Conv2D)       (None, 90, 90, 128)       73856     \n",
            "                                                                 \n",
            " block2_conv2 (Conv2D)       (None, 90, 90, 128)       147584    \n",
            "                                                                 \n",
            " block2_pool (MaxPooling2D)  (None, 45, 45, 128)       0         \n",
            "                                                                 \n",
            " block3_conv1 (Conv2D)       (None, 45, 45, 256)       295168    \n",
            "                                                                 \n",
            " block3_conv2 (Conv2D)       (None, 45, 45, 256)       590080    \n",
            "                                                                 \n",
            " block3_conv3 (Conv2D)       (None, 45, 45, 256)       590080    \n",
            "                                                                 \n",
            " block3_pool (MaxPooling2D)  (None, 22, 22, 256)       0         \n",
            "                                                                 \n",
            " block4_conv1 (Conv2D)       (None, 22, 22, 512)       1180160   \n",
            "                                                                 \n",
            " block4_conv2 (Conv2D)       (None, 22, 22, 512)       2359808   \n",
            "                                                                 \n",
            " block4_conv3 (Conv2D)       (None, 22, 22, 512)       2359808   \n",
            "                                                                 \n",
            " block4_pool (MaxPooling2D)  (None, 11, 11, 512)       0         \n",
            "                                                                 \n",
            " block5_conv1 (Conv2D)       (None, 11, 11, 512)       2359808   \n",
            "                                                                 \n",
            " block5_conv2 (Conv2D)       (None, 11, 11, 512)       2359808   \n",
            "                                                                 \n",
            " block5_conv3 (Conv2D)       (None, 11, 11, 512)       2359808   \n",
            "                                                                 \n",
            " block5_pool (MaxPooling2D)  (None, 5, 5, 512)         0         \n",
            "                                                                 \n",
            "=================================================================\n",
            "Total params: 14714688 (56.13 MB)\n",
            "Trainable params: 14714688 (56.13 MB)\n",
            "Non-trainable params: 0 (0.00 Byte)\n",
            "_________________________________________________________________\n"
          ]
        }
      ],
      "source": [
        "conv_base.summary()"
      ]
    },
    {
      "cell_type": "markdown",
      "metadata": {
        "id": "blN61cxHvlyO"
      },
      "source": [
        "**Extracting the VGG16 features and corresponding labels**"
      ]
    },
    {
      "cell_type": "code",
      "execution_count": 10,
      "metadata": {
        "id": "9CLU1MM-vlyO"
      },
      "outputs": [],
      "source": [
        "import numpy as np\n",
        "\n",
        "def get_features_and_labels(dataset):\n",
        "    all_features = []\n",
        "    all_labels = []\n",
        "    for images, labels in dataset:\n",
        "        preprocessed_images = keras.applications.vgg16.preprocess_input(images)\n",
        "        features = conv_base.predict(preprocessed_images)\n",
        "        all_features.append(features)\n",
        "        all_labels.append(labels)\n",
        "    return np.concatenate(all_features), np.concatenate(all_labels)\n"
      ]
    },
    {
      "cell_type": "code",
      "execution_count": 11,
      "metadata": {
        "colab": {
          "base_uri": "https://localhost:8080/"
        },
        "id": "Tjzc5xtdmxmI",
        "outputId": "de7b7840-aa6b-4971-8100-50693441491c"
      },
      "outputs": [
        {
          "name": "stdout",
          "output_type": "stream",
          "text": [
            "1/1 [==============================] - 6s 6s/step\n",
            "1/1 [==============================] - 0s 27ms/step\n",
            "1/1 [==============================] - 0s 27ms/step\n",
            "1/1 [==============================] - 0s 28ms/step\n",
            "1/1 [==============================] - 0s 22ms/step\n",
            "1/1 [==============================] - 0s 27ms/step\n",
            "1/1 [==============================] - 0s 27ms/step\n",
            "1/1 [==============================] - 0s 27ms/step\n",
            "1/1 [==============================] - 0s 27ms/step\n",
            "1/1 [==============================] - 0s 22ms/step\n",
            "1/1 [==============================] - 0s 22ms/step\n",
            "1/1 [==============================] - 0s 28ms/step\n",
            "1/1 [==============================] - 0s 27ms/step\n",
            "1/1 [==============================] - 0s 27ms/step\n",
            "1/1 [==============================] - 0s 23ms/step\n",
            "1/1 [==============================] - 0s 21ms/step\n",
            "1/1 [==============================] - 0s 27ms/step\n",
            "1/1 [==============================] - 0s 22ms/step\n",
            "1/1 [==============================] - 0s 22ms/step\n",
            "1/1 [==============================] - 0s 22ms/step\n",
            "1/1 [==============================] - 0s 22ms/step\n",
            "1/1 [==============================] - 0s 22ms/step\n",
            "1/1 [==============================] - 0s 22ms/step\n",
            "1/1 [==============================] - 0s 23ms/step\n",
            "1/1 [==============================] - 0s 27ms/step\n",
            "1/1 [==============================] - 0s 27ms/step\n",
            "1/1 [==============================] - 0s 22ms/step\n",
            "1/1 [==============================] - 0s 22ms/step\n",
            "1/1 [==============================] - 0s 22ms/step\n",
            "1/1 [==============================] - 0s 23ms/step\n",
            "1/1 [==============================] - 0s 23ms/step\n",
            "1/1 [==============================] - 0s 23ms/step\n",
            "1/1 [==============================] - 0s 28ms/step\n",
            "1/1 [==============================] - 0s 23ms/step\n",
            "1/1 [==============================] - 0s 23ms/step\n",
            "1/1 [==============================] - 0s 23ms/step\n",
            "1/1 [==============================] - 0s 23ms/step\n",
            "1/1 [==============================] - 0s 30ms/step\n",
            "1/1 [==============================] - 0s 24ms/step\n",
            "1/1 [==============================] - 0s 28ms/step\n",
            "1/1 [==============================] - 0s 28ms/step\n",
            "1/1 [==============================] - 0s 23ms/step\n",
            "1/1 [==============================] - 0s 23ms/step\n",
            "1/1 [==============================] - 0s 24ms/step\n",
            "1/1 [==============================] - 0s 23ms/step\n",
            "1/1 [==============================] - 0s 23ms/step\n",
            "1/1 [==============================] - 0s 25ms/step\n",
            "1/1 [==============================] - 0s 23ms/step\n",
            "1/1 [==============================] - 0s 24ms/step\n",
            "1/1 [==============================] - 0s 25ms/step\n",
            "1/1 [==============================] - 0s 25ms/step\n",
            "1/1 [==============================] - 0s 23ms/step\n",
            "1/1 [==============================] - 0s 24ms/step\n",
            "1/1 [==============================] - 0s 23ms/step\n",
            "1/1 [==============================] - 0s 28ms/step\n",
            "1/1 [==============================] - 0s 22ms/step\n",
            "1/1 [==============================] - 0s 22ms/step\n",
            "1/1 [==============================] - 0s 29ms/step\n",
            "1/1 [==============================] - 0s 23ms/step\n",
            "1/1 [==============================] - 0s 29ms/step\n",
            "1/1 [==============================] - 0s 24ms/step\n",
            "1/1 [==============================] - 0s 23ms/step\n",
            "1/1 [==============================] - 3s 3s/step\n",
            "1/1 [==============================] - 0s 22ms/step\n",
            "1/1 [==============================] - 0s 22ms/step\n",
            "1/1 [==============================] - 0s 23ms/step\n",
            "1/1 [==============================] - 0s 28ms/step\n",
            "1/1 [==============================] - 0s 23ms/step\n",
            "1/1 [==============================] - 0s 22ms/step\n",
            "1/1 [==============================] - 0s 28ms/step\n",
            "1/1 [==============================] - 0s 23ms/step\n",
            "1/1 [==============================] - 0s 23ms/step\n",
            "1/1 [==============================] - 0s 22ms/step\n",
            "1/1 [==============================] - 0s 22ms/step\n",
            "1/1 [==============================] - 0s 22ms/step\n",
            "1/1 [==============================] - 0s 22ms/step\n",
            "1/1 [==============================] - 0s 22ms/step\n",
            "1/1 [==============================] - 0s 22ms/step\n",
            "1/1 [==============================] - 0s 22ms/step\n",
            "1/1 [==============================] - 0s 22ms/step\n",
            "1/1 [==============================] - 0s 23ms/step\n",
            "1/1 [==============================] - 0s 22ms/step\n",
            "1/1 [==============================] - 0s 27ms/step\n",
            "1/1 [==============================] - 0s 22ms/step\n",
            "1/1 [==============================] - 0s 28ms/step\n",
            "1/1 [==============================] - 0s 22ms/step\n",
            "1/1 [==============================] - 0s 22ms/step\n",
            "1/1 [==============================] - 0s 22ms/step\n",
            "1/1 [==============================] - 0s 22ms/step\n",
            "1/1 [==============================] - 0s 22ms/step\n",
            "1/1 [==============================] - 0s 28ms/step\n",
            "1/1 [==============================] - 0s 24ms/step\n",
            "1/1 [==============================] - 0s 23ms/step\n",
            "1/1 [==============================] - 0s 23ms/step\n",
            "1/1 [==============================] - 2s 2s/step\n",
            "1/1 [==============================] - 0s 22ms/step\n",
            "1/1 [==============================] - 0s 22ms/step\n",
            "1/1 [==============================] - 0s 22ms/step\n",
            "1/1 [==============================] - 0s 23ms/step\n",
            "1/1 [==============================] - 0s 27ms/step\n",
            "1/1 [==============================] - 0s 23ms/step\n",
            "1/1 [==============================] - 0s 22ms/step\n",
            "1/1 [==============================] - 0s 27ms/step\n",
            "1/1 [==============================] - 0s 23ms/step\n",
            "1/1 [==============================] - 0s 23ms/step\n",
            "1/1 [==============================] - 0s 21ms/step\n",
            "1/1 [==============================] - 0s 28ms/step\n",
            "1/1 [==============================] - 0s 23ms/step\n",
            "1/1 [==============================] - 0s 28ms/step\n",
            "1/1 [==============================] - 0s 22ms/step\n",
            "1/1 [==============================] - 0s 23ms/step\n",
            "1/1 [==============================] - 0s 25ms/step\n",
            "1/1 [==============================] - 0s 22ms/step\n",
            "1/1 [==============================] - 0s 23ms/step\n",
            "1/1 [==============================] - 0s 24ms/step\n",
            "1/1 [==============================] - 0s 23ms/step\n",
            "1/1 [==============================] - 0s 24ms/step\n",
            "1/1 [==============================] - 0s 24ms/step\n",
            "1/1 [==============================] - 0s 24ms/step\n",
            "1/1 [==============================] - 0s 23ms/step\n",
            "1/1 [==============================] - 0s 23ms/step\n",
            "1/1 [==============================] - 0s 29ms/step\n",
            "1/1 [==============================] - 0s 23ms/step\n",
            "1/1 [==============================] - 0s 23ms/step\n",
            "1/1 [==============================] - 0s 29ms/step\n",
            "1/1 [==============================] - 0s 24ms/step\n",
            "1/1 [==============================] - 0s 19ms/step\n"
          ]
        }
      ],
      "source": [
        "train_features, train_labels =  get_features_and_labels(train_dataset)\n",
        "val_features, val_labels =  get_features_and_labels(validation_dataset)\n",
        "test_features, test_labels =  get_features_and_labels(test_dataset)"
      ]
    },
    {
      "cell_type": "markdown",
      "metadata": {
        "id": "nWKJUQbvvlyO"
      },
      "source": [
        "**Instantiating and freezing the VGG16 convolutional base**"
      ]
    },
    {
      "cell_type": "code",
      "execution_count": 12,
      "metadata": {
        "id": "Gtu59l7avlyO"
      },
      "outputs": [],
      "source": [
        "conv_base  = keras.applications.vgg16.VGG16(\n",
        "    weights=\"imagenet\",\n",
        "    include_top=False)\n",
        "conv_base.trainable = False"
      ]
    },
    {
      "cell_type": "markdown",
      "metadata": {
        "id": "2yd2oefAvlyO"
      },
      "source": [
        "**Adding a data augmentation stage and a classifier to the convolutional base**"
      ]
    },
    {
      "cell_type": "code",
      "execution_count": 13,
      "metadata": {
        "id": "SFlseX-XvlyO"
      },
      "outputs": [],
      "source": [
        "data_augmentation = keras.Sequential(\n",
        "    [\n",
        "        layers.RandomFlip(\"horizontal\"),\n",
        "        layers.RandomRotation(0.1),\n",
        "        layers.RandomZoom(0.2),\n",
        "    ]\n",
        ")\n",
        "\n",
        "inputs = keras.Input(shape=(180, 180, 3))\n",
        "x = data_augmentation(inputs)\n",
        "x = keras.layers.Lambda(\n",
        "     lambda x: keras.applications.vgg16.preprocess_input(x))(x)\n",
        "x = conv_base(x)\n",
        "x = layers.Flatten()(x)\n",
        "x = layers.Dense(256)(x)\n",
        "x = layers.Dropout(0.5)(x)\n",
        "outputs = layers.Dense(1, activation=\"sigmoid\")(x)\n",
        "model = keras.Model(inputs, outputs)\n",
        "model.compile(loss=\"binary_crossentropy\",\n",
        "              optimizer=\"rmsprop\",\n",
        "              metrics=[\"accuracy\"])"
      ]
    },
    {
      "cell_type": "code",
      "execution_count": 14,
      "metadata": {
        "colab": {
          "base_uri": "https://localhost:8080/"
        },
        "id": "vsmEiYZdvlyO",
        "outputId": "44738820-77e3-47a7-ceb1-d5d7e2314d86"
      },
      "outputs": [
        {
          "name": "stdout",
          "output_type": "stream",
          "text": [
            "Epoch 1/50\n",
            "63/63 [==============================] - 12s 144ms/step - loss: 22.1873 - accuracy: 0.8945 - val_loss: 3.9862 - val_accuracy: 0.9750\n",
            "Epoch 2/50\n",
            "63/63 [==============================] - 9s 136ms/step - loss: 6.9458 - accuracy: 0.9375 - val_loss: 5.6310 - val_accuracy: 0.9640\n",
            "Epoch 3/50\n",
            "63/63 [==============================] - 9s 146ms/step - loss: 6.7177 - accuracy: 0.9540 - val_loss: 3.6221 - val_accuracy: 0.9710\n",
            "Epoch 4/50\n",
            "63/63 [==============================] - 9s 138ms/step - loss: 5.3179 - accuracy: 0.9535 - val_loss: 7.5028 - val_accuracy: 0.9580\n",
            "Epoch 5/50\n",
            "63/63 [==============================] - 9s 138ms/step - loss: 2.8284 - accuracy: 0.9720 - val_loss: 6.5917 - val_accuracy: 0.9720\n",
            "Epoch 6/50\n",
            "63/63 [==============================] - 9s 137ms/step - loss: 3.7806 - accuracy: 0.9680 - val_loss: 4.7499 - val_accuracy: 0.9670\n",
            "Epoch 7/50\n",
            "63/63 [==============================] - 9s 143ms/step - loss: 2.8969 - accuracy: 0.9700 - val_loss: 2.8396 - val_accuracy: 0.9780\n",
            "Epoch 8/50\n",
            "63/63 [==============================] - 9s 136ms/step - loss: 2.8382 - accuracy: 0.9690 - val_loss: 2.9179 - val_accuracy: 0.9760\n",
            "Epoch 9/50\n",
            "63/63 [==============================] - 9s 135ms/step - loss: 2.9733 - accuracy: 0.9705 - val_loss: 3.0725 - val_accuracy: 0.9770\n",
            "Epoch 10/50\n",
            "63/63 [==============================] - 9s 137ms/step - loss: 2.1182 - accuracy: 0.9765 - val_loss: 4.8574 - val_accuracy: 0.9690\n",
            "Epoch 11/50\n",
            "63/63 [==============================] - 9s 142ms/step - loss: 2.5766 - accuracy: 0.9740 - val_loss: 2.3599 - val_accuracy: 0.9740\n",
            "Epoch 12/50\n",
            "63/63 [==============================] - 9s 136ms/step - loss: 1.8316 - accuracy: 0.9760 - val_loss: 4.2435 - val_accuracy: 0.9720\n",
            "Epoch 13/50\n",
            "63/63 [==============================] - 9s 137ms/step - loss: 2.0566 - accuracy: 0.9770 - val_loss: 5.7303 - val_accuracy: 0.9690\n",
            "Epoch 14/50\n",
            "63/63 [==============================] - 9s 136ms/step - loss: 2.0193 - accuracy: 0.9765 - val_loss: 2.9263 - val_accuracy: 0.9700\n",
            "Epoch 15/50\n",
            "63/63 [==============================] - 9s 138ms/step - loss: 1.2004 - accuracy: 0.9815 - val_loss: 2.6378 - val_accuracy: 0.9750\n",
            "Epoch 16/50\n",
            "63/63 [==============================] - 9s 137ms/step - loss: 1.4419 - accuracy: 0.9800 - val_loss: 3.1461 - val_accuracy: 0.9760\n",
            "Epoch 17/50\n",
            "63/63 [==============================] - 9s 137ms/step - loss: 1.6128 - accuracy: 0.9780 - val_loss: 2.6355 - val_accuracy: 0.9770\n",
            "Epoch 18/50\n",
            "63/63 [==============================] - 9s 137ms/step - loss: 0.9787 - accuracy: 0.9825 - val_loss: 2.7168 - val_accuracy: 0.9770\n",
            "Epoch 19/50\n",
            "63/63 [==============================] - 9s 136ms/step - loss: 0.9525 - accuracy: 0.9835 - val_loss: 2.7221 - val_accuracy: 0.9750\n",
            "Epoch 20/50\n",
            "63/63 [==============================] - 9s 137ms/step - loss: 1.0654 - accuracy: 0.9760 - val_loss: 3.6746 - val_accuracy: 0.9730\n",
            "Epoch 21/50\n",
            "63/63 [==============================] - 9s 137ms/step - loss: 0.9817 - accuracy: 0.9855 - val_loss: 2.4748 - val_accuracy: 0.9760\n",
            "Epoch 22/50\n",
            "63/63 [==============================] - 9s 144ms/step - loss: 1.0142 - accuracy: 0.9845 - val_loss: 1.8298 - val_accuracy: 0.9810\n",
            "Epoch 23/50\n",
            "63/63 [==============================] - 9s 137ms/step - loss: 0.8058 - accuracy: 0.9840 - val_loss: 2.0729 - val_accuracy: 0.9790\n",
            "Epoch 24/50\n",
            "63/63 [==============================] - 9s 136ms/step - loss: 1.0259 - accuracy: 0.9835 - val_loss: 2.0742 - val_accuracy: 0.9760\n",
            "Epoch 25/50\n",
            "63/63 [==============================] - 9s 137ms/step - loss: 0.7529 - accuracy: 0.9885 - val_loss: 2.2099 - val_accuracy: 0.9770\n",
            "Epoch 26/50\n",
            "63/63 [==============================] - 9s 137ms/step - loss: 0.9908 - accuracy: 0.9845 - val_loss: 2.8248 - val_accuracy: 0.9780\n",
            "Epoch 27/50\n",
            "63/63 [==============================] - 9s 137ms/step - loss: 1.1422 - accuracy: 0.9825 - val_loss: 2.6214 - val_accuracy: 0.9740\n",
            "Epoch 28/50\n",
            "63/63 [==============================] - 9s 137ms/step - loss: 1.1756 - accuracy: 0.9825 - val_loss: 1.8677 - val_accuracy: 0.9790\n",
            "Epoch 29/50\n",
            "63/63 [==============================] - 9s 136ms/step - loss: 0.8686 - accuracy: 0.9865 - val_loss: 2.3324 - val_accuracy: 0.9740\n",
            "Epoch 30/50\n",
            "63/63 [==============================] - 9s 137ms/step - loss: 0.5943 - accuracy: 0.9870 - val_loss: 2.1431 - val_accuracy: 0.9760\n",
            "Epoch 31/50\n",
            "63/63 [==============================] - 9s 137ms/step - loss: 0.8175 - accuracy: 0.9850 - val_loss: 2.5538 - val_accuracy: 0.9750\n",
            "Epoch 32/50\n",
            "63/63 [==============================] - 9s 138ms/step - loss: 0.9623 - accuracy: 0.9840 - val_loss: 2.1040 - val_accuracy: 0.9740\n",
            "Epoch 33/50\n",
            "63/63 [==============================] - 9s 136ms/step - loss: 0.7921 - accuracy: 0.9865 - val_loss: 2.1786 - val_accuracy: 0.9700\n",
            "Epoch 34/50\n",
            "63/63 [==============================] - 9s 144ms/step - loss: 0.3862 - accuracy: 0.9910 - val_loss: 1.8238 - val_accuracy: 0.9750\n",
            "Epoch 35/50\n",
            "63/63 [==============================] - 9s 137ms/step - loss: 0.6822 - accuracy: 0.9870 - val_loss: 2.1298 - val_accuracy: 0.9770\n",
            "Epoch 36/50\n",
            "63/63 [==============================] - 9s 143ms/step - loss: 0.4834 - accuracy: 0.9890 - val_loss: 1.5942 - val_accuracy: 0.9730\n",
            "Epoch 37/50\n",
            "63/63 [==============================] - 9s 137ms/step - loss: 0.4130 - accuracy: 0.9885 - val_loss: 1.7664 - val_accuracy: 0.9770\n",
            "Epoch 38/50\n",
            "63/63 [==============================] - 9s 137ms/step - loss: 0.4707 - accuracy: 0.9890 - val_loss: 3.3919 - val_accuracy: 0.9690\n",
            "Epoch 39/50\n",
            "63/63 [==============================] - 9s 137ms/step - loss: 0.4341 - accuracy: 0.9905 - val_loss: 1.8607 - val_accuracy: 0.9760\n",
            "Epoch 40/50\n",
            "63/63 [==============================] - 9s 137ms/step - loss: 0.6556 - accuracy: 0.9875 - val_loss: 2.2887 - val_accuracy: 0.9740\n",
            "Epoch 41/50\n",
            "63/63 [==============================] - 9s 136ms/step - loss: 0.5346 - accuracy: 0.9885 - val_loss: 2.2410 - val_accuracy: 0.9770\n",
            "Epoch 42/50\n",
            "63/63 [==============================] - 9s 144ms/step - loss: 0.5600 - accuracy: 0.9870 - val_loss: 1.4903 - val_accuracy: 0.9780\n",
            "Epoch 43/50\n",
            "63/63 [==============================] - 9s 136ms/step - loss: 0.5265 - accuracy: 0.9870 - val_loss: 2.3711 - val_accuracy: 0.9750\n",
            "Epoch 44/50\n",
            "63/63 [==============================] - 9s 137ms/step - loss: 0.3664 - accuracy: 0.9895 - val_loss: 1.5061 - val_accuracy: 0.9770\n",
            "Epoch 45/50\n",
            "63/63 [==============================] - 9s 137ms/step - loss: 0.3512 - accuracy: 0.9880 - val_loss: 2.3922 - val_accuracy: 0.9790\n",
            "Epoch 46/50\n",
            "63/63 [==============================] - 9s 137ms/step - loss: 0.6818 - accuracy: 0.9860 - val_loss: 2.0809 - val_accuracy: 0.9790\n",
            "Epoch 47/50\n",
            "63/63 [==============================] - 9s 137ms/step - loss: 0.5413 - accuracy: 0.9895 - val_loss: 2.2330 - val_accuracy: 0.9750\n",
            "Epoch 48/50\n",
            "63/63 [==============================] - 9s 136ms/step - loss: 0.4009 - accuracy: 0.9920 - val_loss: 1.9612 - val_accuracy: 0.9760\n",
            "Epoch 49/50\n",
            "63/63 [==============================] - 9s 137ms/step - loss: 0.2708 - accuracy: 0.9940 - val_loss: 4.7592 - val_accuracy: 0.9640\n",
            "Epoch 50/50\n",
            "63/63 [==============================] - 9s 136ms/step - loss: 0.6583 - accuracy: 0.9905 - val_loss: 1.8446 - val_accuracy: 0.9760\n"
          ]
        }
      ],
      "source": [
        "callbacks = [\n",
        "    keras.callbacks.ModelCheckpoint(\n",
        "        filepath=\"feature_extraction_with_data_augmentation.keras\",\n",
        "        save_best_only=True,\n",
        "        monitor=\"val_loss\")\n",
        "]\n",
        "history = model.fit(\n",
        "    train_dataset,\n",
        "    epochs=50,\n",
        "    validation_data=validation_dataset,\n",
        "    callbacks=callbacks)"
      ]
    },
    {
      "cell_type": "markdown",
      "metadata": {
        "id": "DqklhUyqvlyP"
      },
      "source": [
        "**Evaluating the model on the test set**"
      ]
    },
    {
      "cell_type": "code",
      "execution_count": 15,
      "metadata": {
        "id": "1E0LGKY0pjH1"
      },
      "outputs": [],
      "source": [
        "# deserialize lambda layers. https://github.com/keras-team/tf-keras/issues/44\n",
        "from keras.src.saving import serialization_lib\n",
        "serialization_lib.enable_unsafe_deserialization()"
      ]
    },
    {
      "cell_type": "code",
      "execution_count": 16,
      "metadata": {
        "colab": {
          "base_uri": "https://localhost:8080/"
        },
        "id": "w9MW5mq3vlyP",
        "outputId": "c1354183-1e50-48f0-a6a3-46f2da4e9897"
      },
      "outputs": [
        {
          "name": "stdout",
          "output_type": "stream",
          "text": [
            "32/32 [==============================] - 3s 86ms/step - loss: 1.7860 - accuracy: 0.9770\n",
            "Test accuracy: 0.977\n"
          ]
        }
      ],
      "source": [
        "test_model = keras.models.load_model(\n",
        "    \"feature_extraction_with_data_augmentation.keras\")\n",
        "test_loss, test_acc = test_model.evaluate(test_dataset)\n",
        "print(f\"Test accuracy: {test_acc:.3f}\")"
      ]
    },
    {
      "cell_type": "markdown",
      "metadata": {
        "id": "ZsWg6OuWvlyP"
      },
      "source": [
        "### e. Fine-tuning a pretrained model"
      ]
    },
    {
      "cell_type": "markdown",
      "metadata": {
        "id": "bYEHoo9AvlyP"
      },
      "source": [
        "**Freezing all layers until the fourth from the last**"
      ]
    },
    {
      "cell_type": "code",
      "execution_count": 17,
      "metadata": {
        "id": "5G5gwjZEvlyP"
      },
      "outputs": [],
      "source": [
        "conv_base.trainable = True\n",
        "for layer in conv_base.layers[:-4]:\n",
        "    layer.trainable = False"
      ]
    },
    {
      "cell_type": "markdown",
      "metadata": {
        "id": "thOAt_XbvlyP"
      },
      "source": [
        "**Fine-tuning the model**"
      ]
    },
    {
      "cell_type": "code",
      "execution_count": null,
      "metadata": {
        "colab": {
          "base_uri": "https://localhost:8080/"
        },
        "id": "zbEparK-vlyP",
        "outputId": "94de1a6a-7288-49d3-ba1c-f4d26f713347"
      },
      "outputs": [
        {
          "name": "stdout",
          "output_type": "stream",
          "text": [
            "Epoch 1/30\n",
            "63/63 [==============================] - 13s 162ms/step - loss: 0.4295 - accuracy: 0.9885 - val_loss: 1.5337 - val_accuracy: 0.9820\n",
            "Epoch 2/30\n",
            "63/63 [==============================] - 9s 150ms/step - loss: 0.2728 - accuracy: 0.9915 - val_loss: 1.7804 - val_accuracy: 0.9770\n",
            "Epoch 3/30\n",
            "63/63 [==============================] - 10s 160ms/step - loss: 0.4484 - accuracy: 0.9900 - val_loss: 1.4581 - val_accuracy: 0.9800\n",
            "Epoch 4/30\n",
            "63/63 [==============================] - 10s 151ms/step - loss: 0.2512 - accuracy: 0.9900 - val_loss: 1.4600 - val_accuracy: 0.9770\n",
            "Epoch 5/30\n",
            "63/63 [==============================] - 10s 158ms/step - loss: 0.1047 - accuracy: 0.9955 - val_loss: 1.2762 - val_accuracy: 0.9790\n",
            "Epoch 6/30\n",
            "63/63 [==============================] - 9s 149ms/step - loss: 0.3575 - accuracy: 0.9905 - val_loss: 1.5337 - val_accuracy: 0.9770\n",
            "Epoch 7/30\n",
            "63/63 [==============================] - 9s 148ms/step - loss: 0.1922 - accuracy: 0.9955 - val_loss: 1.7315 - val_accuracy: 0.9790\n",
            "Epoch 8/30\n",
            "63/63 [==============================] - 9s 149ms/step - loss: 0.3131 - accuracy: 0.9930 - val_loss: 1.3765 - val_accuracy: 0.9750\n",
            "Epoch 9/30\n",
            "63/63 [==============================] - 10s 156ms/step - loss: 0.1353 - accuracy: 0.9950 - val_loss: 1.2450 - val_accuracy: 0.9760\n",
            "Epoch 10/30\n",
            "63/63 [==============================] - 9s 149ms/step - loss: 0.1233 - accuracy: 0.9940 - val_loss: 1.3017 - val_accuracy: 0.9780\n",
            "Epoch 11/30\n",
            "63/63 [==============================] - 9s 150ms/step - loss: 0.1235 - accuracy: 0.9945 - val_loss: 1.3372 - val_accuracy: 0.9760\n",
            "Epoch 12/30\n",
            "63/63 [==============================] - 10s 158ms/step - loss: 0.2105 - accuracy: 0.9915 - val_loss: 1.1313 - val_accuracy: 0.9790\n",
            "Epoch 13/30\n",
            "63/63 [==============================] - 9s 150ms/step - loss: 0.2081 - accuracy: 0.9940 - val_loss: 1.2869 - val_accuracy: 0.9800\n",
            "Epoch 14/30\n",
            "63/63 [==============================] - 9s 149ms/step - loss: 0.1577 - accuracy: 0.9950 - val_loss: 1.1549 - val_accuracy: 0.9810\n",
            "Epoch 15/30\n",
            "63/63 [==============================] - 9s 149ms/step - loss: 0.0767 - accuracy: 0.9970 - val_loss: 1.2430 - val_accuracy: 0.9810\n",
            "Epoch 16/30\n",
            "63/63 [==============================] - 9s 150ms/step - loss: 0.2276 - accuracy: 0.9950 - val_loss: 1.6337 - val_accuracy: 0.9800\n",
            "Epoch 17/30\n",
            "63/63 [==============================] - 9s 149ms/step - loss: 0.2024 - accuracy: 0.9950 - val_loss: 1.6871 - val_accuracy: 0.9820\n",
            "Epoch 18/30\n",
            "63/63 [==============================] - 9s 149ms/step - loss: 0.1907 - accuracy: 0.9930 - val_loss: 1.5594 - val_accuracy: 0.9780\n",
            "Epoch 19/30\n",
            "63/63 [==============================] - 9s 149ms/step - loss: 0.1620 - accuracy: 0.9940 - val_loss: 2.4532 - val_accuracy: 0.9730\n",
            "Epoch 20/30\n",
            "63/63 [==============================] - 9s 149ms/step - loss: 0.2082 - accuracy: 0.9950 - val_loss: 1.6560 - val_accuracy: 0.9770\n",
            "Epoch 21/30\n",
            "63/63 [==============================] - 9s 150ms/step - loss: 0.1231 - accuracy: 0.9955 - val_loss: 1.3138 - val_accuracy: 0.9790\n",
            "Epoch 22/30\n",
            "63/63 [==============================] - 9s 149ms/step - loss: 0.1044 - accuracy: 0.9955 - val_loss: 1.2009 - val_accuracy: 0.9790\n",
            "Epoch 23/30\n",
            "63/63 [==============================] - 9s 149ms/step - loss: 0.1977 - accuracy: 0.9950 - val_loss: 1.3666 - val_accuracy: 0.9780\n",
            "Epoch 24/30\n",
            "63/63 [==============================] - 9s 150ms/step - loss: 0.0740 - accuracy: 0.9950 - val_loss: 1.5413 - val_accuracy: 0.9780\n",
            "Epoch 25/30\n",
            "63/63 [==============================] - 9s 149ms/step - loss: 0.0599 - accuracy: 0.9955 - val_loss: 1.3870 - val_accuracy: 0.9780\n",
            "Epoch 26/30\n",
            "63/63 [==============================] - 9s 149ms/step - loss: 0.1571 - accuracy: 0.9965 - val_loss: 1.3980 - val_accuracy: 0.9770\n",
            "Epoch 27/30\n",
            "31/63 [=============>................] - ETA: 3s - loss: 0.0697 - accuracy: 0.9970"
          ]
        }
      ],
      "source": [
        "model.compile(loss=\"binary_crossentropy\",\n",
        "              optimizer=keras.optimizers.RMSprop(learning_rate=1e-5),\n",
        "              metrics=[\"accuracy\"])\n",
        "\n",
        "callbacks = [\n",
        "    keras.callbacks.ModelCheckpoint(\n",
        "        filepath=\"fine_tuning.keras\",\n",
        "        save_best_only=True,\n",
        "        monitor=\"val_loss\")\n",
        "]\n",
        "history = model.fit(\n",
        "    train_dataset,\n",
        "    epochs=30,\n",
        "    validation_data=validation_dataset,\n",
        "    callbacks=callbacks)"
      ]
    },
    {
      "cell_type": "code",
      "execution_count": null,
      "metadata": {
        "colab": {
          "base_uri": "https://localhost:8080/"
        },
        "id": "wuYq3c8uvlyP",
        "outputId": "9d1ea112-1549-4580-c938-38b779351b31"
      },
      "outputs": [
        {
          "name": "stdout",
          "output_type": "stream",
          "text": [
            "32/32 [==============================] - 1s 31ms/step - loss: 0.2363 - accuracy: 0.9810\n",
            "Test accuracy: 0.981\n"
          ]
        }
      ],
      "source": [
        "model = keras.models.load_model(\"fine_tuning.keras\")\n",
        "test_loss, test_acc = model.evaluate(test_dataset)\n",
        "print(f\"Test accuracy: {test_acc:.3f}\")"
      ]
    },
    {
      "cell_type": "markdown",
      "metadata": {
        "id": "FMWc4QFVvlyP"
      },
      "source": [
        "## Conclusion.     \n",
        "Increasing the training set size for the pretrained model didn't make much difference; the improvement in test set accuracy was less than 1%."
      ]
    }
  ],
  "metadata": {
    "accelerator": "GPU",
    "colab": {
      "gpuType": "T4",
      "machine_shape": "hm",
      "provenance": [],
      "toc_visible": true
    },
    "kernelspec": {
      "display_name": "Python 3",
      "name": "python3"
    },
    "language_info": {
      "codemirror_mode": {
        "name": "ipython",
        "version": 3
      },
      "file_extension": ".py",
      "mimetype": "text/x-python",
      "name": "python",
      "nbconvert_exporter": "python",
      "pygments_lexer": "ipython3",
      "version": "3.7.0"
    }
  },
  "nbformat": 4,
  "nbformat_minor": 0
}
